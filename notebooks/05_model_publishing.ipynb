{
 "cells": [
  {
   "cell_type": "markdown",
   "metadata": {},
   "source": [
    "# Publish to GemFire"
   ]
  },
  {
   "cell_type": "markdown",
   "metadata": {},
   "source": [
    "This notebook defines a magic command that publishes models/scores in GPDB to GemFire to support applications that require real-time responses. \n",
    "\n",
    "First, start GemFire REST service by following instructions provided in [this GitHub project](https://github.com/pivotalsoftware/dsmicro)."
   ]
  },
  {
   "cell_type": "markdown",
   "metadata": {},
   "source": [
    "## Imports"
   ]
  },
  {
   "cell_type": "code",
   "execution_count": 4,
   "metadata": {
    "collapsed": true
   },
   "outputs": [],
   "source": [
    "import ConfigParser\n",
    "import os\n",
    "import requests"
   ]
  },
  {
   "cell_type": "markdown",
   "metadata": {},
   "source": [
    "## Construct the base URL of GemFire REST interface"
   ]
  },
  {
   "cell_type": "markdown",
   "metadata": {},
   "source": [
    "The magic command need to have the access to GemFire REST service. GemFire's ``http-service-bind-address`` (host) and ``http-service-port`` (port) need to be provided in a configuration file (e.g. add the following to ~/.dslab_user.cred) like below: \n",
    "\n",
    "```\n",
    "[gemfire_rest_config]\n",
    "host: localhost\n",
    "port: 8080\n",
    "```"
   ]
  },
  {
   "cell_type": "code",
   "execution_count": 14,
   "metadata": {
    "collapsed": false
   },
   "outputs": [],
   "source": [
    "GEMFIRE_CONFIG_FILE = os.path.join(os.path.expanduser('~'), '.dslab_user.cred')\n",
    "\n",
    "def fetchGemFireBaseUrl(rest_config_file=GEMFIRE_CONFIG_FILE):\n",
    "    \"\"\"\n",
    "       Read GemFire REST interface base URL\n",
    "    \"\"\"\n",
    "    #Read GemFire REST service configuration from user supplied file\n",
    "    conf = ConfigParser.ConfigParser()\n",
    "    conf.read(rest_config_file)\n",
    "    #host, port\n",
    "    host = conf.get('gemfire_rest_config','host')\n",
    "    port = conf.get('gemfire_rest_config','port')\n",
    "\n",
    "    #Construct base URL\n",
    "    base_url =  \"http://\" + host + \":\" + str(port) + \"/gemfire-api/v1/\"\n",
    "    return base_url"
   ]
  },
  {
   "cell_type": "markdown",
   "metadata": {},
   "source": [
    "## Find the mapped GemFire region"
   ]
  },
  {
   "cell_type": "markdown",
   "metadata": {},
   "source": [
    "A GPDB table need to be mapped to a GemFire region. The mapping defines which GemFire region a particular GPDB table is going to be loaded to. It need to be provided in a configuration file (e.g. add the following to ~/.dslab_user.cred) like below:\n",
    "\n",
    "```\n",
    "[table_region_mapping]\n",
    "gp_table_name_1: GemFire_region_name_1\n",
    "gp_table_name_2: GemFire_region_name_2\n",
    "```\n",
    "The mapping need to be consistent with the table-to-region mapping specified in the GemFire cache configuration file (cf. server-cache.xml in [this GitHub project](https://github.com/pivotalsoftware/dsmicro)).\n",
    "\n"
   ]
  },
  {
   "cell_type": "code",
   "execution_count": 22,
   "metadata": {
    "collapsed": false
   },
   "outputs": [],
   "source": [
    "GEMFIRE_CONFIG_FILE = os.path.join(os.path.expanduser('~'), '.dslab_user.cred')\n",
    "\n",
    "def findMappedRegion(table, gemfire_config_file=GEMFIRE_CONFIG_FILE):\n",
    "    \"\"\"\n",
    "       Find a GPDB table's corresponding GemFire region\n",
    "    \"\"\"\n",
    "    #Read the table-to-region mapping from user supplied file\n",
    "    conf = ConfigParser.ConfigParser()\n",
    "    conf.read(gemfire_config_file)\n",
    "    return conf.get('table_region_mapping', str(table))"
   ]
  },
  {
   "cell_type": "markdown",
   "metadata": {},
   "source": [
    "## Execute a GemFire function on a region"
   ]
  },
  {
   "cell_type": "code",
   "execution_count": 12,
   "metadata": {
    "collapsed": true
   },
   "outputs": [],
   "source": [
    "def executeGemfireFunction(function_id, region_name):\n",
    "    \"\"\"\n",
    "       Execute a Gemfire function on a user-specified region\n",
    "    \"\"\"\n",
    "    #Construct function URL\n",
    "    url = fetchGemfireBaseUrl() + \"functions/\" + str(function_id)\n",
    "\n",
    "    #Run function\n",
    "    r = requests.post(url,params={'onRegion':str(region_name)})\n",
    "    return r.text"
   ]
  },
  {
   "cell_type": "markdown",
   "metadata": {},
   "source": [
    "## Define a magic command to publish a GPDB table"
   ]
  },
  {
   "cell_type": "code",
   "execution_count": 20,
   "metadata": {
    "collapsed": true
   },
   "outputs": [],
   "source": [
    "from IPython.core.magic import (register_line_magic, register_cell_magic,\n",
    "                                register_line_cell_magic)\n",
    "\n",
    "@register_cell_magic\n",
    "def publish(line, cell):\n",
    "    \"\"\"\n",
    "        Publish a GPDB table to a Gemfire region.\n",
    "    \"\"\"\n",
    "    #Find the mapped Gemfire region\n",
    "    regionName = findMappedRegion(cell);\n",
    "    #Execute the Gemfire LoadFromGPDB function on a the mapped region\n",
    "    return executeGemfireFunction('LoadFromGPDB', regionName)      "
   ]
  },
  {
   "cell_type": "markdown",
   "metadata": {},
   "source": [
    "### Use the `publish` command to publish a GPDB table to its corresponding region in GemFire"
   ]
  },
  {
   "cell_type": "code",
   "execution_count": 21,
   "metadata": {
    "collapsed": false
   },
   "outputs": [
    {
     "data": {
      "text/plain": [
       "u'[ \"Loaded 10 entities on region SentimentScore\" ]'"
      ]
     },
     "execution_count": 21,
     "metadata": {},
     "output_type": "execute_result"
    }
   ],
   "source": [
    "%%publish\n",
    "sentiment_score_test"
   ]
  },
  {
   "cell_type": "markdown",
   "metadata": {},
   "source": [
    "The magic command publishes the ``sentiment_score_test`` table to GemFire. The command essentially invokes the GemFire server-side function ``LoadFromGPDB()`` on the mapped region through GemFire REST interface."
   ]
  }
 ],
 "metadata": {
  "kernelspec": {
   "display_name": "Python 2",
   "language": "python",
   "name": "python2"
  },
  "language_info": {
   "codemirror_mode": {
    "name": "ipython",
    "version": 2
   },
   "file_extension": ".py",
   "mimetype": "text/x-python",
   "name": "python",
   "nbconvert_exporter": "python",
   "pygments_lexer": "ipython2",
   "version": "2.7.11"
  }
 },
 "nbformat": 4,
 "nbformat_minor": 0
}
